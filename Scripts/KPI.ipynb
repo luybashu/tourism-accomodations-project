{
 "cells": [
  {
   "cell_type": "markdown",
   "id": "8a0b0e76-0708-4e14-bae7-9b227bd71283",
   "metadata": {},
   "source": [
    "# KPI"
   ]
  },
  {
   "cell_type": "code",
   "execution_count": 2,
   "id": "94667133-6184-4239-90b2-dfc9d4f52bbb",
   "metadata": {},
   "outputs": [],
   "source": [
    "# import libraries \n",
    "import os\n",
    "import warnings\n",
    "\n",
    "import matplotlib.pyplot as plt\n",
    "import numpy as np\n",
    "import pandas as pd\n",
    "import seaborn as sns\n",
    "\n",
    "warnings.filterwarnings(\"ignore\")"
   ]
  },
  {
   "cell_type": "markdown",
   "id": "e7ad0ad5-f40d-43a8-a140-693e2eea9ae7",
   "metadata": {},
   "source": [
    "## Data Loading"
   ]
  },
  {
   "cell_type": "code",
   "execution_count": 18,
   "id": "a6205f8c-7a4a-4a35-9798-35a2bdbb6347",
   "metadata": {},
   "outputs": [],
   "source": [
    "PATH = 'Data'\n",
    "SPRINT = 3\n",
    "FILENAME = f'Tourist_Accommodation07042025.csv'"
   ]
  },
  {
   "cell_type": "code",
   "execution_count": 4,
   "id": "39272be7-4b5d-4227-86de-356a74ecfb4e",
   "metadata": {},
   "outputs": [],
   "source": [
    "# define function to read file\n",
    "def read_file(filename):\n",
    "    \n",
    "    \"\"\"Input: filename.\n",
    "    Function reads .csv data. \n",
    "    Output: Dataframe or error.\n",
    "    \"\"\"\n",
    "    \n",
    "    # reading file\n",
    "    try:\n",
    "        df = pd.read_csv(os.path.join('..', PATH, filename), \n",
    "                         parse_dates=['insert_date', 'first_review_date', 'last_review_date'])\n",
    "        display(df.head())\n",
    "        return df\n",
    "    except Exception as error:\n",
    "        print(\"An exception occurred:\", error)\n",
    "        return error "
   ]
  },
  {
   "cell_type": "code",
   "execution_count": 5,
   "id": "46fbc184-1e1f-4a8c-816a-c929b6edb639",
   "metadata": {},
   "outputs": [
    {
     "data": {
      "text/html": [
       "<div>\n",
       "<style scoped>\n",
       "    .dataframe tbody tr th:only-of-type {\n",
       "        vertical-align: middle;\n",
       "    }\n",
       "\n",
       "    .dataframe tbody tr th {\n",
       "        vertical-align: top;\n",
       "    }\n",
       "\n",
       "    .dataframe thead th {\n",
       "        text-align: right;\n",
       "    }\n",
       "</style>\n",
       "<table border=\"1\" class=\"dataframe\">\n",
       "  <thead>\n",
       "    <tr style=\"text-align: right;\">\n",
       "      <th></th>\n",
       "      <th>apartment_id</th>\n",
       "      <th>name</th>\n",
       "      <th>description</th>\n",
       "      <th>host_id</th>\n",
       "      <th>neighbourhood_name</th>\n",
       "      <th>neighbourhood_district</th>\n",
       "      <th>room_type</th>\n",
       "      <th>accommodates</th>\n",
       "      <th>bathrooms</th>\n",
       "      <th>bedrooms</th>\n",
       "      <th>...</th>\n",
       "      <th>review_scores_value</th>\n",
       "      <th>is_instant_bookable</th>\n",
       "      <th>reviews_per_month</th>\n",
       "      <th>country</th>\n",
       "      <th>city</th>\n",
       "      <th>insert_date</th>\n",
       "      <th>standardized_city</th>\n",
       "      <th>standardized_neighbourhood</th>\n",
       "      <th>autonomous_community</th>\n",
       "      <th>has_reviews</th>\n",
       "    </tr>\n",
       "  </thead>\n",
       "  <tbody>\n",
       "    <tr>\n",
       "      <th>0</th>\n",
       "      <td>11964</td>\n",
       "      <td>A ROOM WITH A VIEW</td>\n",
       "      <td>Private bedroom in our attic apartment. Right ...</td>\n",
       "      <td>45553</td>\n",
       "      <td>Centro</td>\n",
       "      <td>NaN</td>\n",
       "      <td>Private room</td>\n",
       "      <td>2</td>\n",
       "      <td>2.0</td>\n",
       "      <td>1.0</td>\n",
       "      <td>...</td>\n",
       "      <td>100.0</td>\n",
       "      <td>0</td>\n",
       "      <td>75.0</td>\n",
       "      <td>spain</td>\n",
       "      <td>malaga</td>\n",
       "      <td>2018-07-31</td>\n",
       "      <td>Málaga</td>\n",
       "      <td>Centro</td>\n",
       "      <td>Andalucía</td>\n",
       "      <td>True</td>\n",
       "    </tr>\n",
       "    <tr>\n",
       "      <th>1</th>\n",
       "      <td>21853</td>\n",
       "      <td>Bright and airy room</td>\n",
       "      <td>We have a quiet and sunny room with a good vie...</td>\n",
       "      <td>83531</td>\n",
       "      <td>C�rmenes</td>\n",
       "      <td>Latina</td>\n",
       "      <td>Private room</td>\n",
       "      <td>1</td>\n",
       "      <td>1.0</td>\n",
       "      <td>1.0</td>\n",
       "      <td>...</td>\n",
       "      <td>90.0</td>\n",
       "      <td>0</td>\n",
       "      <td>52.0</td>\n",
       "      <td>spain</td>\n",
       "      <td>madrid</td>\n",
       "      <td>2020-01-10</td>\n",
       "      <td>Madrid</td>\n",
       "      <td>Los Cármenes</td>\n",
       "      <td>Comunidad de Madrid</td>\n",
       "      <td>True</td>\n",
       "    </tr>\n",
       "    <tr>\n",
       "      <th>2</th>\n",
       "      <td>32347</td>\n",
       "      <td>Explore Cultural Sights from a Family-Friendly...</td>\n",
       "      <td>Open French doors and step onto a plant-filled...</td>\n",
       "      <td>139939</td>\n",
       "      <td>San Vicente</td>\n",
       "      <td>Casco Antiguo</td>\n",
       "      <td>Entire home/apt</td>\n",
       "      <td>4</td>\n",
       "      <td>1.0</td>\n",
       "      <td>2.0</td>\n",
       "      <td>...</td>\n",
       "      <td>100.0</td>\n",
       "      <td>1</td>\n",
       "      <td>142.0</td>\n",
       "      <td>spain</td>\n",
       "      <td>sevilla</td>\n",
       "      <td>2019-07-29</td>\n",
       "      <td>Sevilla</td>\n",
       "      <td>San Vicente</td>\n",
       "      <td>Andalucía</td>\n",
       "      <td>True</td>\n",
       "    </tr>\n",
       "    <tr>\n",
       "      <th>3</th>\n",
       "      <td>35379</td>\n",
       "      <td>Double 02 CasanovaRooms Barcelona</td>\n",
       "      <td>Room at a my apartment. Kitchen and 2 bathroom...</td>\n",
       "      <td>152232</td>\n",
       "      <td>l'Antiga Esquerra de l'Eixample</td>\n",
       "      <td>Eixample</td>\n",
       "      <td>Private room</td>\n",
       "      <td>2</td>\n",
       "      <td>2.0</td>\n",
       "      <td>1.0</td>\n",
       "      <td>...</td>\n",
       "      <td>90.0</td>\n",
       "      <td>1</td>\n",
       "      <td>306.0</td>\n",
       "      <td>spain</td>\n",
       "      <td>barcelona</td>\n",
       "      <td>2020-01-10</td>\n",
       "      <td>Barcelona</td>\n",
       "      <td>L'Antiga Esquerra de l'Eixample</td>\n",
       "      <td>Cataluña</td>\n",
       "      <td>True</td>\n",
       "    </tr>\n",
       "    <tr>\n",
       "      <th>4</th>\n",
       "      <td>35801</td>\n",
       "      <td>Can Torras Farmhouse Studio Suite</td>\n",
       "      <td>Lay in bed &amp; watch sunlight change the mood of...</td>\n",
       "      <td>153805</td>\n",
       "      <td>Quart</td>\n",
       "      <td>NaN</td>\n",
       "      <td>Private room</td>\n",
       "      <td>5</td>\n",
       "      <td>1.0</td>\n",
       "      <td>2.0</td>\n",
       "      <td>...</td>\n",
       "      <td>100.0</td>\n",
       "      <td>0</td>\n",
       "      <td>39.0</td>\n",
       "      <td>spain</td>\n",
       "      <td>girona</td>\n",
       "      <td>2019-02-19</td>\n",
       "      <td>Girona</td>\n",
       "      <td>Quart</td>\n",
       "      <td>Cataluña</td>\n",
       "      <td>True</td>\n",
       "    </tr>\n",
       "  </tbody>\n",
       "</table>\n",
       "<p>5 rows × 39 columns</p>\n",
       "</div>"
      ],
      "text/plain": [
       "   apartment_id                                               name  \\\n",
       "0         11964                                 A ROOM WITH A VIEW   \n",
       "1         21853                               Bright and airy room   \n",
       "2         32347  Explore Cultural Sights from a Family-Friendly...   \n",
       "3         35379                  Double 02 CasanovaRooms Barcelona   \n",
       "4         35801                  Can Torras Farmhouse Studio Suite   \n",
       "\n",
       "                                         description  host_id  \\\n",
       "0  Private bedroom in our attic apartment. Right ...    45553   \n",
       "1  We have a quiet and sunny room with a good vie...    83531   \n",
       "2  Open French doors and step onto a plant-filled...   139939   \n",
       "3  Room at a my apartment. Kitchen and 2 bathroom...   152232   \n",
       "4  Lay in bed & watch sunlight change the mood of...   153805   \n",
       "\n",
       "                neighbourhood_name neighbourhood_district        room_type  \\\n",
       "0                           Centro                    NaN     Private room   \n",
       "1                         C�rmenes                 Latina     Private room   \n",
       "2                      San Vicente          Casco Antiguo  Entire home/apt   \n",
       "3  l'Antiga Esquerra de l'Eixample               Eixample     Private room   \n",
       "4                            Quart                    NaN     Private room   \n",
       "\n",
       "   accommodates  bathrooms  bedrooms  ...  review_scores_value  \\\n",
       "0             2        2.0       1.0  ...                100.0   \n",
       "1             1        1.0       1.0  ...                 90.0   \n",
       "2             4        1.0       2.0  ...                100.0   \n",
       "3             2        2.0       1.0  ...                 90.0   \n",
       "4             5        1.0       2.0  ...                100.0   \n",
       "\n",
       "  is_instant_bookable  reviews_per_month  country       city  insert_date  \\\n",
       "0                   0               75.0    spain     malaga   2018-07-31   \n",
       "1                   0               52.0    spain     madrid   2020-01-10   \n",
       "2                   1              142.0    spain    sevilla   2019-07-29   \n",
       "3                   1              306.0    spain  barcelona   2020-01-10   \n",
       "4                   0               39.0    spain     girona   2019-02-19   \n",
       "\n",
       "   standardized_city       standardized_neighbourhood  autonomous_community  \\\n",
       "0             Málaga                           Centro             Andalucía   \n",
       "1             Madrid                     Los Cármenes   Comunidad de Madrid   \n",
       "2            Sevilla                      San Vicente             Andalucía   \n",
       "3          Barcelona  L'Antiga Esquerra de l'Eixample              Cataluña   \n",
       "4             Girona                            Quart              Cataluña   \n",
       "\n",
       "   has_reviews  \n",
       "0         True  \n",
       "1         True  \n",
       "2         True  \n",
       "3         True  \n",
       "4         True  \n",
       "\n",
       "[5 rows x 39 columns]"
      ]
     },
     "metadata": {},
     "output_type": "display_data"
    }
   ],
   "source": [
    "df = read_file(FILENAME)"
   ]
  },
  {
   "cell_type": "code",
   "execution_count": 6,
   "id": "35122d6f-5d9a-49e2-b7c0-c1c7a2a94860",
   "metadata": {},
   "outputs": [
    {
     "name": "stdout",
     "output_type": "stream",
     "text": [
      "<class 'pandas.core.frame.DataFrame'>\n",
      "RangeIndex: 9650 entries, 0 to 9649\n",
      "Data columns (total 39 columns):\n",
      " #   Column                       Non-Null Count  Dtype         \n",
      "---  ------                       --------------  -----         \n",
      " 0   apartment_id                 9650 non-null   int64         \n",
      " 1   name                         9647 non-null   object        \n",
      " 2   description                  9516 non-null   object        \n",
      " 3   host_id                      9650 non-null   int64         \n",
      " 4   neighbourhood_name           9650 non-null   object        \n",
      " 5   neighbourhood_district       5860 non-null   object        \n",
      " 6   room_type                    9650 non-null   object        \n",
      " 7   accommodates                 9650 non-null   int64         \n",
      " 8   bathrooms                    9578 non-null   float64       \n",
      " 9   bedrooms                     9580 non-null   float64       \n",
      " 10  beds                         9605 non-null   float64       \n",
      " 11  amenities_list               9634 non-null   object        \n",
      " 12  price                        9409 non-null   float64       \n",
      " 13  minimum_nights               9650 non-null   int64         \n",
      " 14  maximum_nights               9650 non-null   int64         \n",
      " 15  has_availability             9650 non-null   int64         \n",
      " 16  availability_30              9650 non-null   int64         \n",
      " 17  availability_60              9650 non-null   int64         \n",
      " 18  availability_90              9650 non-null   int64         \n",
      " 19  availability_365             9650 non-null   int64         \n",
      " 20  number_of_reviews            9650 non-null   int64         \n",
      " 21  first_review_date            7128 non-null   datetime64[ns]\n",
      " 22  last_review_date             7127 non-null   datetime64[ns]\n",
      " 23  review_scores_rating         7025 non-null   float64       \n",
      " 24  review_scores_accuracy       7016 non-null   float64       \n",
      " 25  review_scores_cleanliness    7022 non-null   float64       \n",
      " 26  review_scores_checkin        7011 non-null   float64       \n",
      " 27  review_scores_communication  7020 non-null   float64       \n",
      " 28  review_scores_location       7010 non-null   float64       \n",
      " 29  review_scores_value          7010 non-null   float64       \n",
      " 30  is_instant_bookable          9650 non-null   int64         \n",
      " 31  reviews_per_month            7128 non-null   float64       \n",
      " 32  country                      9650 non-null   object        \n",
      " 33  city                         9650 non-null   object        \n",
      " 34  insert_date                  9650 non-null   datetime64[ns]\n",
      " 35  standardized_city            9650 non-null   object        \n",
      " 36  standardized_neighbourhood   9650 non-null   object        \n",
      " 37  autonomous_community         9650 non-null   object        \n",
      " 38  has_reviews                  9650 non-null   bool          \n",
      "dtypes: bool(1), datetime64[ns](3), float64(12), int64(12), object(11)\n",
      "memory usage: 2.8+ MB\n"
     ]
    }
   ],
   "source": [
    "df.info()"
   ]
  },
  {
   "cell_type": "markdown",
   "id": "f72462bc-5fcf-4b90-b3c7-99c94bc98810",
   "metadata": {},
   "source": [
    "## KPI occupancy rates\n",
    "### 1. Occupancy Rate (Monthly) \n",
    "\n",
    "Occupancy Rate = (Number of Occupied Days / Number of Days) × 100"
   ]
  },
  {
   "cell_type": "code",
   "execution_count": 7,
   "id": "630dc07a-74e1-4418-88a0-b37558207244",
   "metadata": {},
   "outputs": [
    {
     "name": "stdout",
     "output_type": "stream",
     "text": [
      "\n",
      "Occupancy Rate 30 days:\n",
      "56.50466321243523\n",
      "\n",
      "Occupancy Rate 60 days:\n",
      "52.00639032815199\n",
      "\n",
      "Occupancy Rate 90 days:\n",
      "48.73436960276339\n",
      "\n",
      "Occupancy Rate 365 days:\n",
      "48.59751579246221\n"
     ]
    }
   ],
   "source": [
    "# occupancy rate for different periods\n",
    "for period in ['30', '60', '90', '365']:\n",
    "    print(f'\\nOccupancy Rate {period} days:')\n",
    "    print(\n",
    "        ((int(period) - df[f\"availability_{period}\"]) / int(period)).mean()*100)"
   ]
  },
  {
   "cell_type": "code",
   "execution_count": 8,
   "id": "a714821a-d570-41c4-9c20-e6a0bd49f9b4",
   "metadata": {},
   "outputs": [
    {
     "name": "stdout",
     "output_type": "stream",
     "text": [
      "Occupancy Rate for 30 days: 56.50\n"
     ]
    }
   ],
   "source": [
    "# 1. Occupancy Rate for 30 days\n",
    "df['occupancy_rate'] = (30 - df.availability_30).div(30).mul(100)\n",
    "\n",
    "occupancy_rate = df['occupancy_rate'].mean()\n",
    "\n",
    "# print results\n",
    "print(f\"Occupancy Rate for 30 days: {occupancy_rate:.2f}\")"
   ]
  },
  {
   "cell_type": "markdown",
   "id": "4f602d75-dc20-4ddc-bc9b-27fef8624291",
   "metadata": {},
   "source": [
    "### 2. City with the Highest Occupancy (Monthly) \n",
    "\n",
    "City with the Highest Occupancy = max (Number of Occupied Days / Number of Available Days)\n"
   ]
  },
  {
   "cell_type": "code",
   "execution_count": 9,
   "id": "d219815d-7ef0-429d-ad47-4cb04e6b2b99",
   "metadata": {},
   "outputs": [
    {
     "data": {
      "text/plain": [
       "standardized_city\n",
       "Sevilla      49.817814\n",
       "Girona       50.273850\n",
       "Menorca      52.293578\n",
       "Palma        53.198568\n",
       "Valencia     55.263158\n",
       "Málaga       57.281746\n",
       "Barcelona    60.020841\n",
       "Madrid       60.905967\n",
       "Name: occupancy_rate, dtype: float64"
      ]
     },
     "execution_count": 9,
     "metadata": {},
     "output_type": "execute_result"
    }
   ],
   "source": [
    "df.groupby('standardized_city').occupancy_rate.mean().sort_values()"
   ]
  },
  {
   "cell_type": "code",
   "execution_count": 10,
   "id": "f4054280-f0b2-409b-96f2-786c82d5b429",
   "metadata": {},
   "outputs": [
    {
     "name": "stdout",
     "output_type": "stream",
     "text": [
      "City with the Highest Occupancy: Madrid\n"
     ]
    }
   ],
   "source": [
    "# 2. City with the Highest Occupancy\n",
    "best_city = df.groupby('standardized_city').occupancy_rate.mean().idxmax()\n",
    "\n",
    "# print results\n",
    "print(f\"City with the Highest Occupancy: {best_city}\")"
   ]
  },
  {
   "cell_type": "markdown",
   "id": "fb15cbd1-d289-4392-8f55-fb67af7eb360",
   "metadata": {},
   "source": [
    "## KPI customers satisfaction"
   ]
  },
  {
   "cell_type": "markdown",
   "id": "37f2bced-5c6d-4802-8d08-059e3821ef4b",
   "metadata": {},
   "source": [
    "### 3. General Satisfaction Index (average review_scores_value)"
   ]
  },
  {
   "cell_type": "code",
   "execution_count": 11,
   "id": "63dcb3ef-d00b-4ef5-bd37-157eeb88dc91",
   "metadata": {},
   "outputs": [
    {
     "name": "stdout",
     "output_type": "stream",
     "text": [
      "General Satisfaction Index: 918.97\n"
     ]
    }
   ],
   "source": [
    "general_satisfaction_index = df['review_scores_rating'].mean()\n",
    "print(f\"General Satisfaction Index: {general_satisfaction_index:.2f}\")"
   ]
  },
  {
   "cell_type": "markdown",
   "id": "1381522e-192d-41da-a0fa-d7337c773403",
   "metadata": {},
   "source": [
    "### 4. Compute the average score for each category"
   ]
  },
  {
   "cell_type": "code",
   "execution_count": 12,
   "id": "e5c73c1e-1ca5-44d8-b040-8dfb05b6d578",
   "metadata": {},
   "outputs": [
    {
     "name": "stdout",
     "output_type": "stream",
     "text": [
      "Highest Satisfaction Item: checkin (96.22)\n"
     ]
    }
   ],
   "source": [
    "avg_scores = {\n",
    "    'accuracy': df['review_scores_accuracy'].mean(),\n",
    "    'cleanliness': df['review_scores_cleanliness'].mean(),\n",
    "    'checkin': df['review_scores_checkin'].mean(),\n",
    "    'communication': df['review_scores_communication'].mean(),\n",
    "    'location': df['review_scores_location'].mean(),\n",
    "    'value': df['review_scores_value'].mean() ## Added to cover all columns of review_scores\n",
    "}\n",
    "\n",
    "# Find the category with the highest average satisfaction\n",
    "highest_satisfaction_item = max(avg_scores, key=avg_scores.get)\n",
    "\n",
    "# Print results\n",
    "print(f\"Highest Satisfaction Item: {highest_satisfaction_item} ({avg_scores[highest_satisfaction_item]:.2f})\")"
   ]
  },
  {
   "cell_type": "code",
   "execution_count": 13,
   "id": "e30d8d05-3612-4da2-b671-a799fe57ecd3",
   "metadata": {},
   "outputs": [
    {
     "data": {
      "text/plain": [
       "{'accuracy': 94.49258836944128,\n",
       " 'cleanliness': 93.10595272002278,\n",
       " 'checkin': 96.22022536014833,\n",
       " 'communication': 96.2008547008547,\n",
       " 'location': 95.43651925820257,\n",
       " 'value': 91.3509272467903}"
      ]
     },
     "execution_count": 13,
     "metadata": {},
     "output_type": "execute_result"
    }
   ],
   "source": [
    "avg_scores"
   ]
  },
  {
   "cell_type": "markdown",
   "id": "e20ab595-03e1-40d2-a988-8e729953e805",
   "metadata": {},
   "source": [
    "## Save KPIs to .xlsx"
   ]
  },
  {
   "cell_type": "code",
   "execution_count": 21,
   "id": "f651c391-b4aa-4767-b21c-c894f23a0932",
   "metadata": {},
   "outputs": [],
   "source": [
    "# load existing KPIs data from the Excel file\n",
    "kpi_data = pd.read_excel(os.path.join('..', 'Results', \"KPIs.xlsx\"))"
   ]
  },
  {
   "cell_type": "code",
   "execution_count": 22,
   "id": "f90c7ed6-9c70-4042-bbec-7b375966cd74",
   "metadata": {},
   "outputs": [
    {
     "data": {
      "text/html": [
       "<div>\n",
       "<style scoped>\n",
       "    .dataframe tbody tr th:only-of-type {\n",
       "        vertical-align: middle;\n",
       "    }\n",
       "\n",
       "    .dataframe tbody tr th {\n",
       "        vertical-align: top;\n",
       "    }\n",
       "\n",
       "    .dataframe thead th {\n",
       "        text-align: right;\n",
       "    }\n",
       "</style>\n",
       "<table border=\"1\" class=\"dataframe\">\n",
       "  <thead>\n",
       "    <tr style=\"text-align: right;\">\n",
       "      <th></th>\n",
       "      <th>Sprint</th>\n",
       "      <th>1_OccupancyRate</th>\n",
       "      <th>2_HighestOccupancy</th>\n",
       "      <th>3_Satisfaction Index</th>\n",
       "      <th>4_HighestSatisfactionItem</th>\n",
       "      <th>4_Score</th>\n",
       "    </tr>\n",
       "  </thead>\n",
       "  <tbody>\n",
       "    <tr>\n",
       "      <th>0</th>\n",
       "      <td>1</td>\n",
       "      <td>59.03</td>\n",
       "      <td>Madrid</td>\n",
       "      <td>919.99</td>\n",
       "      <td>communication</td>\n",
       "      <td>96.43</td>\n",
       "    </tr>\n",
       "    <tr>\n",
       "      <th>1</th>\n",
       "      <td>2</td>\n",
       "      <td>58.65</td>\n",
       "      <td>Madrid</td>\n",
       "      <td>919.31</td>\n",
       "      <td>communication</td>\n",
       "      <td>96.34</td>\n",
       "    </tr>\n",
       "  </tbody>\n",
       "</table>\n",
       "</div>"
      ],
      "text/plain": [
       "   Sprint  1_OccupancyRate 2_HighestOccupancy  3_Satisfaction Index  \\\n",
       "0       1            59.03             Madrid                919.99   \n",
       "1       2            58.65             Madrid                919.31   \n",
       "\n",
       "  4_HighestSatisfactionItem  4_Score  \n",
       "0             communication    96.43  \n",
       "1             communication    96.34  "
      ]
     },
     "execution_count": 22,
     "metadata": {},
     "output_type": "execute_result"
    }
   ],
   "source": [
    "kpi_data"
   ]
  },
  {
   "cell_type": "code",
   "execution_count": 23,
   "id": "141ca909-bd8b-4c9f-a4d0-68cf022d09a2",
   "metadata": {},
   "outputs": [],
   "source": [
    "# new row with updated KPIs\n",
    "new_row = {\n",
    "    \"Sprint\": SPRINT,\n",
    "    \"1_OccupancyRate\": round(occupancy_rate, 2),\n",
    "    \"2_HighestOccupancy\": best_city,\n",
    "    \"3_Satisfaction Index\": round(general_satisfaction_index, 2),\n",
    "    \"4_HighestSatisfactionItem\": highest_satisfaction_item,\n",
    "    \"4_Score\": round(avg_scores[highest_satisfaction_item], 2)\n",
    "}"
   ]
  },
  {
   "cell_type": "code",
   "execution_count": 24,
   "id": "d670abbc-b465-482d-a3ff-f2459bcca503",
   "metadata": {},
   "outputs": [
    {
     "data": {
      "text/html": [
       "<div>\n",
       "<style scoped>\n",
       "    .dataframe tbody tr th:only-of-type {\n",
       "        vertical-align: middle;\n",
       "    }\n",
       "\n",
       "    .dataframe tbody tr th {\n",
       "        vertical-align: top;\n",
       "    }\n",
       "\n",
       "    .dataframe thead th {\n",
       "        text-align: right;\n",
       "    }\n",
       "</style>\n",
       "<table border=\"1\" class=\"dataframe\">\n",
       "  <thead>\n",
       "    <tr style=\"text-align: right;\">\n",
       "      <th></th>\n",
       "      <th>Sprint</th>\n",
       "      <th>1_OccupancyRate</th>\n",
       "      <th>2_HighestOccupancy</th>\n",
       "      <th>3_Satisfaction Index</th>\n",
       "      <th>4_HighestSatisfactionItem</th>\n",
       "      <th>4_Score</th>\n",
       "    </tr>\n",
       "  </thead>\n",
       "  <tbody>\n",
       "    <tr>\n",
       "      <th>0</th>\n",
       "      <td>1</td>\n",
       "      <td>59.03</td>\n",
       "      <td>Madrid</td>\n",
       "      <td>919.99</td>\n",
       "      <td>communication</td>\n",
       "      <td>96.43</td>\n",
       "    </tr>\n",
       "    <tr>\n",
       "      <th>1</th>\n",
       "      <td>2</td>\n",
       "      <td>58.65</td>\n",
       "      <td>Madrid</td>\n",
       "      <td>919.31</td>\n",
       "      <td>communication</td>\n",
       "      <td>96.34</td>\n",
       "    </tr>\n",
       "    <tr>\n",
       "      <th>2</th>\n",
       "      <td>3</td>\n",
       "      <td>56.50</td>\n",
       "      <td>Madrid</td>\n",
       "      <td>918.97</td>\n",
       "      <td>checkin</td>\n",
       "      <td>96.22</td>\n",
       "    </tr>\n",
       "  </tbody>\n",
       "</table>\n",
       "</div>"
      ],
      "text/plain": [
       "   Sprint  1_OccupancyRate 2_HighestOccupancy  3_Satisfaction Index  \\\n",
       "0       1            59.03             Madrid                919.99   \n",
       "1       2            58.65             Madrid                919.31   \n",
       "2       3            56.50             Madrid                918.97   \n",
       "\n",
       "  4_HighestSatisfactionItem  4_Score  \n",
       "0             communication    96.43  \n",
       "1             communication    96.34  \n",
       "2                   checkin    96.22  "
      ]
     },
     "execution_count": 24,
     "metadata": {},
     "output_type": "execute_result"
    }
   ],
   "source": [
    "# concatenate the new row to the existing DataFrame\n",
    "kpi_data = pd.concat([kpi_data, pd.DataFrame([new_row])], ignore_index=True)\n",
    "kpi_data"
   ]
  },
  {
   "cell_type": "code",
   "execution_count": 25,
   "id": "84f36473-3fe8-4877-9c51-6f68e19f2ea3",
   "metadata": {},
   "outputs": [],
   "source": [
    "# Save the updated DataFrame back to the Excel file\n",
    "kpi_data.to_excel(os.path.join('..', 'Results', \"KPIs.xlsx\"), index=False)"
   ]
  },
  {
   "cell_type": "code",
   "execution_count": null,
   "id": "12744597-9739-404d-a4e6-4b03d21870fa",
   "metadata": {},
   "outputs": [],
   "source": []
  }
 ],
 "metadata": {
  "kernelspec": {
   "display_name": "Python 3 (ipykernel)",
   "language": "python",
   "name": "python3"
  },
  "language_info": {
   "codemirror_mode": {
    "name": "ipython",
    "version": 3
   },
   "file_extension": ".py",
   "mimetype": "text/x-python",
   "name": "python",
   "nbconvert_exporter": "python",
   "pygments_lexer": "ipython3",
   "version": "3.10.13"
  }
 },
 "nbformat": 4,
 "nbformat_minor": 5
}
