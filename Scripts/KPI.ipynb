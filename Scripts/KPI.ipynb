{
 "cells": [
  {
   "cell_type": "markdown",
   "id": "8a0b0e76-0708-4e14-bae7-9b227bd71283",
   "metadata": {},
   "source": [
    "# KPI"
   ]
  },
  {
   "cell_type": "code",
   "execution_count": 4,
   "id": "94667133-6184-4239-90b2-dfc9d4f52bbb",
   "metadata": {},
   "outputs": [],
   "source": [
    "# import libraries \n",
    "import os\n",
    "import warnings\n",
    "\n",
    "import matplotlib.pyplot as plt\n",
    "import numpy as np\n",
    "import pandas as pd\n",
    "import seaborn as sns\n",
    "\n",
    "warnings.filterwarnings(\"ignore\")"
   ]
  },
  {
   "cell_type": "markdown",
   "id": "e7ad0ad5-f40d-43a8-a140-693e2eea9ae7",
   "metadata": {},
   "source": [
    "## Data Loading"
   ]
  },
  {
   "cell_type": "code",
   "execution_count": 5,
   "id": "a6205f8c-7a4a-4a35-9798-35a2bdbb6347",
   "metadata": {},
   "outputs": [],
   "source": [
    "PATH = 'Data'\n",
    "SPRINT = 1"
   ]
  },
  {
   "cell_type": "code",
   "execution_count": 6,
   "id": "39272be7-4b5d-4227-86de-356a74ecfb4e",
   "metadata": {},
   "outputs": [],
   "source": [
    "# define function to read file\n",
    "def read_file(sprint):\n",
    "    \n",
    "    \"\"\"Input: number of sprint.\n",
    "    Function reads .csv data of desired sprint. \n",
    "    Output: Dataframe or error.\n",
    "    \"\"\"\n",
    "    \n",
    "    # reading file\n",
    "    filename = f'data_sprint_{sprint}.csv'\n",
    "    try:\n",
    "        df = pd.read_csv(os.path.join('..', PATH, filename), \n",
    "                         parse_dates=['insert_date', 'first_review_date', 'last_review_date'], \n",
    "                         date_format='%d/%m/%Y')\n",
    "        display(df.head())\n",
    "        return df\n",
    "    except Exception as error:\n",
    "        print(\"An exception occurred:\", error)\n",
    "        return error "
   ]
  },
  {
   "cell_type": "code",
   "execution_count": 7,
   "id": "46fbc184-1e1f-4a8c-816a-c929b6edb639",
   "metadata": {},
   "outputs": [
    {
     "data": {
      "text/html": [
       "<div>\n",
       "<style scoped>\n",
       "    .dataframe tbody tr th:only-of-type {\n",
       "        vertical-align: middle;\n",
       "    }\n",
       "\n",
       "    .dataframe tbody tr th {\n",
       "        vertical-align: top;\n",
       "    }\n",
       "\n",
       "    .dataframe thead th {\n",
       "        text-align: right;\n",
       "    }\n",
       "</style>\n",
       "<table border=\"1\" class=\"dataframe\">\n",
       "  <thead>\n",
       "    <tr style=\"text-align: right;\">\n",
       "      <th></th>\n",
       "      <th>apartment_id</th>\n",
       "      <th>name</th>\n",
       "      <th>description</th>\n",
       "      <th>host_id</th>\n",
       "      <th>neighbourhood_name</th>\n",
       "      <th>neighbourhood_district</th>\n",
       "      <th>room_type</th>\n",
       "      <th>accommodates</th>\n",
       "      <th>bathrooms</th>\n",
       "      <th>bedrooms</th>\n",
       "      <th>...</th>\n",
       "      <th>review_scores_cleanliness</th>\n",
       "      <th>review_scores_checkin</th>\n",
       "      <th>review_scores_communication</th>\n",
       "      <th>review_scores_location</th>\n",
       "      <th>review_scores_value</th>\n",
       "      <th>is_instant_bookable</th>\n",
       "      <th>reviews_per_month</th>\n",
       "      <th>country</th>\n",
       "      <th>city</th>\n",
       "      <th>insert_date</th>\n",
       "    </tr>\n",
       "  </thead>\n",
       "  <tbody>\n",
       "    <tr>\n",
       "      <th>0</th>\n",
       "      <td>11964</td>\n",
       "      <td>A ROOM WITH A VIEW</td>\n",
       "      <td>Private bedroom in our attic apartment. Right ...</td>\n",
       "      <td>45553</td>\n",
       "      <td>Centro</td>\n",
       "      <td>NaN</td>\n",
       "      <td>Private room</td>\n",
       "      <td>2</td>\n",
       "      <td>2.0</td>\n",
       "      <td>1.0</td>\n",
       "      <td>...</td>\n",
       "      <td>100.0</td>\n",
       "      <td>100.0</td>\n",
       "      <td>100.0</td>\n",
       "      <td>100.0</td>\n",
       "      <td>100.0</td>\n",
       "      <td>FALSO</td>\n",
       "      <td>75.0</td>\n",
       "      <td>spain</td>\n",
       "      <td>malaga</td>\n",
       "      <td>2018-07-31</td>\n",
       "    </tr>\n",
       "    <tr>\n",
       "      <th>1</th>\n",
       "      <td>21853</td>\n",
       "      <td>Bright and airy room</td>\n",
       "      <td>We have a quiet and sunny room with a good vie...</td>\n",
       "      <td>83531</td>\n",
       "      <td>C�rmenes</td>\n",
       "      <td>Latina</td>\n",
       "      <td>Private room</td>\n",
       "      <td>1</td>\n",
       "      <td>1.0</td>\n",
       "      <td>1.0</td>\n",
       "      <td>...</td>\n",
       "      <td>90.0</td>\n",
       "      <td>100.0</td>\n",
       "      <td>100.0</td>\n",
       "      <td>80.0</td>\n",
       "      <td>90.0</td>\n",
       "      <td>FALSO</td>\n",
       "      <td>52.0</td>\n",
       "      <td>spain</td>\n",
       "      <td>madrid</td>\n",
       "      <td>2020-01-10</td>\n",
       "    </tr>\n",
       "    <tr>\n",
       "      <th>2</th>\n",
       "      <td>32347</td>\n",
       "      <td>Explore Cultural Sights from a Family-Friendly...</td>\n",
       "      <td>Open French doors and step onto a plant-filled...</td>\n",
       "      <td>139939</td>\n",
       "      <td>San Vicente</td>\n",
       "      <td>Casco Antiguo</td>\n",
       "      <td>Entire home/apt</td>\n",
       "      <td>4</td>\n",
       "      <td>1.0</td>\n",
       "      <td>2.0</td>\n",
       "      <td>...</td>\n",
       "      <td>100.0</td>\n",
       "      <td>100.0</td>\n",
       "      <td>100.0</td>\n",
       "      <td>100.0</td>\n",
       "      <td>100.0</td>\n",
       "      <td>VERDADERO</td>\n",
       "      <td>142.0</td>\n",
       "      <td>spain</td>\n",
       "      <td>sevilla</td>\n",
       "      <td>2019-07-29</td>\n",
       "    </tr>\n",
       "    <tr>\n",
       "      <th>3</th>\n",
       "      <td>35379</td>\n",
       "      <td>Double 02 CasanovaRooms Barcelona</td>\n",
       "      <td>Room at a my apartment. Kitchen and 2 bathroom...</td>\n",
       "      <td>152232</td>\n",
       "      <td>l'Antiga Esquerra de l'Eixample</td>\n",
       "      <td>Eixample</td>\n",
       "      <td>Private room</td>\n",
       "      <td>2</td>\n",
       "      <td>2.0</td>\n",
       "      <td>1.0</td>\n",
       "      <td>...</td>\n",
       "      <td>90.0</td>\n",
       "      <td>100.0</td>\n",
       "      <td>100.0</td>\n",
       "      <td>100.0</td>\n",
       "      <td>90.0</td>\n",
       "      <td>VERDADERO</td>\n",
       "      <td>306.0</td>\n",
       "      <td>spain</td>\n",
       "      <td>barcelona</td>\n",
       "      <td>2020-01-10</td>\n",
       "    </tr>\n",
       "    <tr>\n",
       "      <th>4</th>\n",
       "      <td>35801</td>\n",
       "      <td>Can Torras Farmhouse Studio Suite</td>\n",
       "      <td>Lay in bed &amp; watch sunlight change the mood of...</td>\n",
       "      <td>153805</td>\n",
       "      <td>Quart</td>\n",
       "      <td>NaN</td>\n",
       "      <td>Private room</td>\n",
       "      <td>5</td>\n",
       "      <td>1.0</td>\n",
       "      <td>2.0</td>\n",
       "      <td>...</td>\n",
       "      <td>100.0</td>\n",
       "      <td>100.0</td>\n",
       "      <td>100.0</td>\n",
       "      <td>100.0</td>\n",
       "      <td>100.0</td>\n",
       "      <td>FALSO</td>\n",
       "      <td>39.0</td>\n",
       "      <td>spain</td>\n",
       "      <td>girona</td>\n",
       "      <td>2019-02-19</td>\n",
       "    </tr>\n",
       "  </tbody>\n",
       "</table>\n",
       "<p>5 rows × 35 columns</p>\n",
       "</div>"
      ],
      "text/plain": [
       "   apartment_id                                               name  \\\n",
       "0         11964                                 A ROOM WITH A VIEW   \n",
       "1         21853                               Bright and airy room   \n",
       "2         32347  Explore Cultural Sights from a Family-Friendly...   \n",
       "3         35379                  Double 02 CasanovaRooms Barcelona   \n",
       "4         35801                  Can Torras Farmhouse Studio Suite   \n",
       "\n",
       "                                         description  host_id  \\\n",
       "0  Private bedroom in our attic apartment. Right ...    45553   \n",
       "1  We have a quiet and sunny room with a good vie...    83531   \n",
       "2  Open French doors and step onto a plant-filled...   139939   \n",
       "3  Room at a my apartment. Kitchen and 2 bathroom...   152232   \n",
       "4  Lay in bed & watch sunlight change the mood of...   153805   \n",
       "\n",
       "                neighbourhood_name neighbourhood_district        room_type  \\\n",
       "0                           Centro                    NaN     Private room   \n",
       "1                         C�rmenes                 Latina     Private room   \n",
       "2                      San Vicente          Casco Antiguo  Entire home/apt   \n",
       "3  l'Antiga Esquerra de l'Eixample               Eixample     Private room   \n",
       "4                            Quart                    NaN     Private room   \n",
       "\n",
       "   accommodates  bathrooms  bedrooms  ...  review_scores_cleanliness  \\\n",
       "0             2        2.0       1.0  ...                      100.0   \n",
       "1             1        1.0       1.0  ...                       90.0   \n",
       "2             4        1.0       2.0  ...                      100.0   \n",
       "3             2        2.0       1.0  ...                       90.0   \n",
       "4             5        1.0       2.0  ...                      100.0   \n",
       "\n",
       "  review_scores_checkin  review_scores_communication  review_scores_location  \\\n",
       "0                 100.0                        100.0                   100.0   \n",
       "1                 100.0                        100.0                    80.0   \n",
       "2                 100.0                        100.0                   100.0   \n",
       "3                 100.0                        100.0                   100.0   \n",
       "4                 100.0                        100.0                   100.0   \n",
       "\n",
       "   review_scores_value is_instant_bookable  reviews_per_month  country  \\\n",
       "0                100.0               FALSO               75.0    spain   \n",
       "1                 90.0               FALSO               52.0    spain   \n",
       "2                100.0           VERDADERO              142.0    spain   \n",
       "3                 90.0           VERDADERO              306.0    spain   \n",
       "4                100.0               FALSO               39.0    spain   \n",
       "\n",
       "        city  insert_date  \n",
       "0     malaga   2018-07-31  \n",
       "1     madrid   2020-01-10  \n",
       "2    sevilla   2019-07-29  \n",
       "3  barcelona   2020-01-10  \n",
       "4     girona   2019-02-19  \n",
       "\n",
       "[5 rows x 35 columns]"
      ]
     },
     "metadata": {},
     "output_type": "display_data"
    }
   ],
   "source": [
    "df = read_file(SPRINT)"
   ]
  },
  {
   "cell_type": "markdown",
   "id": "f72462bc-5fcf-4b90-b3c7-99c94bc98810",
   "metadata": {},
   "source": [
    "## KPI occupancy rates\n",
    "### 1. Occupancy Rate (Monthly) \n",
    "\n",
    "Occupancy Rate = (Number of Occupied Days / Number of Available Days) × 100"
   ]
  },
  {
   "cell_type": "code",
   "execution_count": 9,
   "id": "630dc07a-74e1-4418-88a0-b37558207244",
   "metadata": {},
   "outputs": [
    {
     "name": "stdout",
     "output_type": "stream",
     "text": [
      "\n",
      "Occupancy Rate 30 days:\n",
      "1019.889204308436\n",
      "\n",
      "Occupancy Rate 60 days:\n",
      "1571.0229532536937\n",
      "\n",
      "Occupancy Rate 90 days:\n",
      "1975.5166578030799\n",
      "\n",
      "Occupancy Rate 365 days:\n",
      "5116.625090518823\n"
     ]
    }
   ],
   "source": [
    "# 1. Occupancy Rate\n",
    "for period in ['30', '60', '90', '365']:\n",
    "    print(f'\\nOccupancy Rate {period} days:')\n",
    "    print(((int(period) - df[f\"availability_{period}\"]) / (df[f\"availability_{period}\"]+1)).mean()*100)"
   ]
  },
  {
   "cell_type": "markdown",
   "id": "4f602d75-dc20-4ddc-bc9b-27fef8624291",
   "metadata": {},
   "source": [
    "### 2. City with the Highest Occupancy (Monthly) \n",
    "\n",
    "City with the Highest Occupancy = max (Number of Occupied Days / Number of Available Days)\n"
   ]
  },
  {
   "cell_type": "code",
   "execution_count": 10,
   "id": "d219815d-7ef0-429d-ad47-4cb04e6b2b99",
   "metadata": {},
   "outputs": [],
   "source": [
    "# 2. City with the Highest Occupancy\n"
   ]
  },
  {
   "cell_type": "markdown",
   "id": "fb15cbd1-d289-4392-8f55-fb67af7eb360",
   "metadata": {},
   "source": [
    "## KPI customers satisfaction"
   ]
  },
  {
   "cell_type": "code",
   "execution_count": 11,
   "id": "63dcb3ef-d00b-4ef5-bd37-157eeb88dc91",
   "metadata": {},
   "outputs": [
    {
     "name": "stdout",
     "output_type": "stream",
     "text": [
      "General Satisfaction Index: 91.46\n"
     ]
    }
   ],
   "source": [
    "# 3. General Satisfaction Index (average review_scores_value)\n",
    "general_satisfaction_index = df['review_scores_value'].mean()\n",
    "\n",
    "# Print results\n",
    "print(f\"General Satisfaction Index: {general_satisfaction_index:.2f}\")"
   ]
  },
  {
   "cell_type": "code",
   "execution_count": 12,
   "id": "e5c73c1e-1ca5-44d8-b040-8dfb05b6d578",
   "metadata": {},
   "outputs": [
    {
     "name": "stdout",
     "output_type": "stream",
     "text": [
      "Highest Satisfaction Item: communication (96.43)\n"
     ]
    }
   ],
   "source": [
    "# 4. Compute the average score for each category\n",
    "avg_scores = {\n",
    "    'accuracy': df['review_scores_accuracy'].mean(),\n",
    "    'cleanliness': df['review_scores_cleanliness'].mean(),\n",
    "    'checkin': df['review_scores_checkin'].mean(),\n",
    "    'communication': df['review_scores_communication'].mean(),\n",
    "    'location': df['review_scores_location'].mean()\n",
    "}\n",
    "\n",
    "# Find the category with the highest average satisfaction\n",
    "highest_satisfaction_item = max(avg_scores, key=avg_scores.get)\n",
    "\n",
    "# Print results\n",
    "print(f\"Highest Satisfaction Item: {highest_satisfaction_item} ({avg_scores[highest_satisfaction_item]:.2f})\")"
   ]
  },
  {
   "cell_type": "code",
   "execution_count": null,
   "id": "4ed91723-aea1-49a0-8120-46f8d2ec9169",
   "metadata": {},
   "outputs": [],
   "source": []
  }
 ],
 "metadata": {
  "kernelspec": {
   "display_name": "Python 3 (ipykernel)",
   "language": "python",
   "name": "python3"
  },
  "language_info": {
   "codemirror_mode": {
    "name": "ipython",
    "version": 3
   },
   "file_extension": ".py",
   "mimetype": "text/x-python",
   "name": "python",
   "nbconvert_exporter": "python",
   "pygments_lexer": "ipython3",
   "version": "3.10.13"
  }
 },
 "nbformat": 4,
 "nbformat_minor": 5
}
