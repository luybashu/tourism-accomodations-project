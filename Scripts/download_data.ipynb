{
 "cells": [
  {
   "cell_type": "code",
   "execution_count": 1,
   "id": "df8bf8b7",
   "metadata": {},
   "outputs": [
    {
     "name": "stdout",
     "output_type": "stream",
     "text": [
      "Viva el equip_F en el simulador :) \n"
     ]
    }
   ],
   "source": [
    "#by RPadilla\n",
    "print(\"Viva el equip_F en el simulador :) \")"
   ]
  },
  {
   "cell_type": "code",
   "execution_count": 13,
   "id": "ee570846-a66e-4d46-8070-d9e5a1e8f62e",
   "metadata": {},
   "outputs": [],
   "source": [
    "# import libraries \n",
    "import os\n",
    "import pandas as pd\n",
    "from dotenv import load_dotenv, find_dotenv\n",
    "import mysql.connector\n",
    "from mysql.connector import Error"
   ]
  },
  {
   "cell_type": "markdown",
   "id": "74e65994-6477-4f3c-8868-c5bb3ff9ea21",
   "metadata": {},
   "source": [
    "## Downloading data\n",
    "### Connection to MySQL DB and Data Extraction"
   ]
  },
  {
   "cell_type": "code",
   "execution_count": 15,
   "id": "68d7b6b7-a785-4f6f-8ddf-bae6c9ad23d5",
   "metadata": {},
   "outputs": [],
   "source": [
    "# name of database\n",
    "DB = 'Equip_F'\n",
    "\n",
    "# sprint name to add to data filename\n",
    "SPRINT = 'sprint_1'"
   ]
  },
  {
   "cell_type": "markdown",
   "id": "0a03bcd6-390f-45a9-8be1-b2472bf3b5fc",
   "metadata": {},
   "source": [
    "#### Setting Up the `.env` File\n",
    "Before running the notebook, you will need to create a `.env` file in the notebook folder to provide your MySQL credentials. File should contain variables:\n",
    "- `MYSQL_USER`=Your MySQL username\n",
    "- `MYSQL_PASSWORD`=Your MySQL password\n",
    "- `HOST`=The host where your MySQL server is running"
   ]
  },
  {
   "cell_type": "code",
   "execution_count": 29,
   "id": "1002593f-02fa-4737-913b-f8adf85e0538",
   "metadata": {},
   "outputs": [],
   "source": [
    "# Automatically find the .env file\n",
    "dotenv_path = find_dotenv()\n",
    "\n",
    "# If found, load the .env file\n",
    "if dotenv_path:\n",
    "    load_dotenv(dotenv_path)\n",
    "else:\n",
    "    print(\".env file not found\")\n",
    "# configuration for MySQL connection\n",
    "config = {\n",
    "  'user': os.getenv('MYSQL_USER'),\n",
    "  'password': os.getenv('MYSQL_PASSWORD'),\n",
    "  'host': os.getenv('HOST'),\n",
    "  'database': DB,\n",
    "  'raise_on_warnings': True\n",
    "}\n"
   ]
  },
  {
   "cell_type": "code",
   "execution_count": 31,
   "id": "78ba87a0-3c1f-4836-bd70-7176c5d3058b",
   "metadata": {},
   "outputs": [],
   "source": [
    "# define function to connect to MySQL and download data\n",
    "def get_data(db_name, config):\n",
    "\n",
    "    \"\"\"\n",
    "    Input: db_name - string, database name to fetch data from.\n",
    "    config - dict, configuration for MySQL connection\n",
    "    Connects to MySQL and fetches data from all tables.\n",
    "    Output: 1) dict or pd.DataFrame \n",
    "    (dictionary of DataFrames if multiple tables are fetched, \n",
    "    otherwise a single DataFrame)\n",
    "    2) list with tabel names\n",
    "    \"\"\"\n",
    "\n",
    "    try:\n",
    "        cnx = mysql.connector.connect(**config)\n",
    "        cursor = cnx.cursor(dictionary=True)\n",
    "\n",
    "        cursor.execute('show tables;')\n",
    "        tables = cursor.fetchall()\n",
    "\n",
    "        data = {}\n",
    "        table_names = []\n",
    "        for table in tables:\n",
    "            table_name = list(table.values())[0]\n",
    "            table_names.append(table_name)\n",
    "            \n",
    "            query = f\"select * from {table_name}\"\n",
    "            cursor.execute(query)\n",
    "            records = cursor.fetchall()\n",
    "            print(f\"Total rows in table {table_name}: {cursor.rowcount}\")\n",
    "            data[table_name] = pd.DataFrame(records)\n",
    "\n",
    "        return data if len(table_names) > 1 else data[table_names[0]], table_names\n",
    "\n",
    "    except mysql.connector.Error as error:\n",
    "        print(f\"Failed to get record from MySQL table: {error}\")\n",
    "\n",
    "    finally:\n",
    "        if cnx.is_connected():\n",
    "            cursor.close()\n",
    "            cnx.close()\n",
    "            print(\"MySQL connection is closed\")"
   ]
  },
  {
   "cell_type": "code",
   "execution_count": 33,
   "id": "66204180-64e1-4981-bafa-cd837df61aba",
   "metadata": {},
   "outputs": [
    {
     "name": "stdout",
     "output_type": "stream",
     "text": [
      "Total rows in table Tourist_Accommodation: 7001\n",
      "MySQL connection is closed\n"
     ]
    }
   ],
   "source": [
    "# fetch data from MySQL and store in dictionary\n",
    "data, tables = get_data(DB, config)"
   ]
  },
  {
   "cell_type": "code",
   "execution_count": 7,
   "id": "7bfdd66a-2a34-4dc4-b3df-2b2f2e80097a",
   "metadata": {},
   "outputs": [],
   "source": [
    "# save DataFrame to a .csv file in \"Data\" folder\n",
    "data.to_csv(f'../Data/data_{SPRINT}.csv', index=False)"
   ]
  }
 ],
 "metadata": {
  "kernelspec": {
   "display_name": "Python 3",
   "language": "python",
   "name": "python3"
  },
  "language_info": {
   "codemirror_mode": {
    "name": "ipython",
    "version": 3
   },
   "file_extension": ".py",
   "mimetype": "text/x-python",
   "name": "python",
   "nbconvert_exporter": "python",
   "pygments_lexer": "ipython3",
   "version": "3.13.1"
  }
 },
 "nbformat": 4,
 "nbformat_minor": 5
}
