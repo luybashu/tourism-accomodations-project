{
 "cells": [
  {
   "cell_type": "markdown",
   "id": "df3d5b7d-ba52-478a-b9a4-7a7ad08c2d79",
   "metadata": {},
   "source": [
    "## S4"
   ]
  },
  {
   "cell_type": "markdown",
   "id": "cdff6ecc-2ee7-4e21-905f-97a2eded11ee",
   "metadata": {},
   "source": [
    "Data source Spain's National Statistics Institute (INE) on tourism activity\n",
    "https://www.ine.es/dynt3/inebase/index.htm?padre=239"
   ]
  },
  {
   "cell_type": "markdown",
   "id": "cf0613e5-951a-4d46-9516-073ce3f164f4",
   "metadata": {},
   "source": [
    "Business Question:  \n",
    "Adjust business strategy (pricing, promotions, services) based on tourism trends from INE (Spain’s National Statistics Institute) to better match traveler demand.  \n",
    "\n",
    "• Is it necessary to adjust our offerings to the traveler profile and the demand for overnight stays in the cities where we are present, considering the official figures on origin, months of visit, and average overnight stays per autonomous city?"
   ]
  },
  {
   "cell_type": "markdown",
   "id": "d9381187-23e4-467e-b1db-9eee3bb49dd4",
   "metadata": {},
   "source": [
    "https://www.ine.es/jaxiT3/Tabla.htm?t=2941&L=0"
   ]
  },
  {
   "cell_type": "code",
   "execution_count": 5,
   "id": "101f0086-bcd3-4422-b9df-f68e37c37337",
   "metadata": {},
   "outputs": [
    {
     "ename": "FileNotFoundError",
     "evalue": "[Errno 2] No such file or directory: '../Data/INE_Encuesta_de_ocupación_hotelera_2074.csv'",
     "output_type": "error",
     "traceback": [
      "\u001b[1;31m---------------------------------------------------------------------------\u001b[0m",
      "\u001b[1;31mFileNotFoundError\u001b[0m                         Traceback (most recent call last)",
      "Cell \u001b[1;32mIn[5], line 10\u001b[0m\n\u001b[0;32m      7\u001b[0m file_path \u001b[38;5;241m=\u001b[39m \u001b[38;5;124mr\u001b[39m\u001b[38;5;124m\"\u001b[39m\u001b[38;5;124m../Data/INE_Encuesta_de_ocupación_hotelera_2074.csv\u001b[39m\u001b[38;5;124m\"\u001b[39m\n\u001b[0;32m      9\u001b[0m \u001b[38;5;66;03m# Leer el archivo CSV correctamente\u001b[39;00m\n\u001b[1;32m---> 10\u001b[0m df \u001b[38;5;241m=\u001b[39m pd\u001b[38;5;241m.\u001b[39mread_csv(file_path, sep\u001b[38;5;241m=\u001b[39m\u001b[38;5;124m\"\u001b[39m\u001b[38;5;124m;\u001b[39m\u001b[38;5;124m\"\u001b[39m, encoding\u001b[38;5;241m=\u001b[39m\u001b[38;5;124m\"\u001b[39m\u001b[38;5;124mutf-8-sig\u001b[39m\u001b[38;5;124m\"\u001b[39m)\n\u001b[0;32m     12\u001b[0m \u001b[38;5;66;03m# Mostrar las primeras filas para verificar\u001b[39;00m\n\u001b[0;32m     13\u001b[0m \u001b[38;5;28mprint\u001b[39m(df\u001b[38;5;241m.\u001b[39mhead())\n",
      "File \u001b[1;32m~\\anaconda3\\Lib\\site-packages\\pandas\\io\\parsers\\readers.py:1026\u001b[0m, in \u001b[0;36mread_csv\u001b[1;34m(filepath_or_buffer, sep, delimiter, header, names, index_col, usecols, dtype, engine, converters, true_values, false_values, skipinitialspace, skiprows, skipfooter, nrows, na_values, keep_default_na, na_filter, verbose, skip_blank_lines, parse_dates, infer_datetime_format, keep_date_col, date_parser, date_format, dayfirst, cache_dates, iterator, chunksize, compression, thousands, decimal, lineterminator, quotechar, quoting, doublequote, escapechar, comment, encoding, encoding_errors, dialect, on_bad_lines, delim_whitespace, low_memory, memory_map, float_precision, storage_options, dtype_backend)\u001b[0m\n\u001b[0;32m   1013\u001b[0m kwds_defaults \u001b[38;5;241m=\u001b[39m _refine_defaults_read(\n\u001b[0;32m   1014\u001b[0m     dialect,\n\u001b[0;32m   1015\u001b[0m     delimiter,\n\u001b[1;32m   (...)\u001b[0m\n\u001b[0;32m   1022\u001b[0m     dtype_backend\u001b[38;5;241m=\u001b[39mdtype_backend,\n\u001b[0;32m   1023\u001b[0m )\n\u001b[0;32m   1024\u001b[0m kwds\u001b[38;5;241m.\u001b[39mupdate(kwds_defaults)\n\u001b[1;32m-> 1026\u001b[0m \u001b[38;5;28;01mreturn\u001b[39;00m _read(filepath_or_buffer, kwds)\n",
      "File \u001b[1;32m~\\anaconda3\\Lib\\site-packages\\pandas\\io\\parsers\\readers.py:620\u001b[0m, in \u001b[0;36m_read\u001b[1;34m(filepath_or_buffer, kwds)\u001b[0m\n\u001b[0;32m    617\u001b[0m _validate_names(kwds\u001b[38;5;241m.\u001b[39mget(\u001b[38;5;124m\"\u001b[39m\u001b[38;5;124mnames\u001b[39m\u001b[38;5;124m\"\u001b[39m, \u001b[38;5;28;01mNone\u001b[39;00m))\n\u001b[0;32m    619\u001b[0m \u001b[38;5;66;03m# Create the parser.\u001b[39;00m\n\u001b[1;32m--> 620\u001b[0m parser \u001b[38;5;241m=\u001b[39m TextFileReader(filepath_or_buffer, \u001b[38;5;241m*\u001b[39m\u001b[38;5;241m*\u001b[39mkwds)\n\u001b[0;32m    622\u001b[0m \u001b[38;5;28;01mif\u001b[39;00m chunksize \u001b[38;5;129;01mor\u001b[39;00m iterator:\n\u001b[0;32m    623\u001b[0m     \u001b[38;5;28;01mreturn\u001b[39;00m parser\n",
      "File \u001b[1;32m~\\anaconda3\\Lib\\site-packages\\pandas\\io\\parsers\\readers.py:1620\u001b[0m, in \u001b[0;36mTextFileReader.__init__\u001b[1;34m(self, f, engine, **kwds)\u001b[0m\n\u001b[0;32m   1617\u001b[0m     \u001b[38;5;28mself\u001b[39m\u001b[38;5;241m.\u001b[39moptions[\u001b[38;5;124m\"\u001b[39m\u001b[38;5;124mhas_index_names\u001b[39m\u001b[38;5;124m\"\u001b[39m] \u001b[38;5;241m=\u001b[39m kwds[\u001b[38;5;124m\"\u001b[39m\u001b[38;5;124mhas_index_names\u001b[39m\u001b[38;5;124m\"\u001b[39m]\n\u001b[0;32m   1619\u001b[0m \u001b[38;5;28mself\u001b[39m\u001b[38;5;241m.\u001b[39mhandles: IOHandles \u001b[38;5;241m|\u001b[39m \u001b[38;5;28;01mNone\u001b[39;00m \u001b[38;5;241m=\u001b[39m \u001b[38;5;28;01mNone\u001b[39;00m\n\u001b[1;32m-> 1620\u001b[0m \u001b[38;5;28mself\u001b[39m\u001b[38;5;241m.\u001b[39m_engine \u001b[38;5;241m=\u001b[39m \u001b[38;5;28mself\u001b[39m\u001b[38;5;241m.\u001b[39m_make_engine(f, \u001b[38;5;28mself\u001b[39m\u001b[38;5;241m.\u001b[39mengine)\n",
      "File \u001b[1;32m~\\anaconda3\\Lib\\site-packages\\pandas\\io\\parsers\\readers.py:1880\u001b[0m, in \u001b[0;36mTextFileReader._make_engine\u001b[1;34m(self, f, engine)\u001b[0m\n\u001b[0;32m   1878\u001b[0m     \u001b[38;5;28;01mif\u001b[39;00m \u001b[38;5;124m\"\u001b[39m\u001b[38;5;124mb\u001b[39m\u001b[38;5;124m\"\u001b[39m \u001b[38;5;129;01mnot\u001b[39;00m \u001b[38;5;129;01min\u001b[39;00m mode:\n\u001b[0;32m   1879\u001b[0m         mode \u001b[38;5;241m+\u001b[39m\u001b[38;5;241m=\u001b[39m \u001b[38;5;124m\"\u001b[39m\u001b[38;5;124mb\u001b[39m\u001b[38;5;124m\"\u001b[39m\n\u001b[1;32m-> 1880\u001b[0m \u001b[38;5;28mself\u001b[39m\u001b[38;5;241m.\u001b[39mhandles \u001b[38;5;241m=\u001b[39m get_handle(\n\u001b[0;32m   1881\u001b[0m     f,\n\u001b[0;32m   1882\u001b[0m     mode,\n\u001b[0;32m   1883\u001b[0m     encoding\u001b[38;5;241m=\u001b[39m\u001b[38;5;28mself\u001b[39m\u001b[38;5;241m.\u001b[39moptions\u001b[38;5;241m.\u001b[39mget(\u001b[38;5;124m\"\u001b[39m\u001b[38;5;124mencoding\u001b[39m\u001b[38;5;124m\"\u001b[39m, \u001b[38;5;28;01mNone\u001b[39;00m),\n\u001b[0;32m   1884\u001b[0m     compression\u001b[38;5;241m=\u001b[39m\u001b[38;5;28mself\u001b[39m\u001b[38;5;241m.\u001b[39moptions\u001b[38;5;241m.\u001b[39mget(\u001b[38;5;124m\"\u001b[39m\u001b[38;5;124mcompression\u001b[39m\u001b[38;5;124m\"\u001b[39m, \u001b[38;5;28;01mNone\u001b[39;00m),\n\u001b[0;32m   1885\u001b[0m     memory_map\u001b[38;5;241m=\u001b[39m\u001b[38;5;28mself\u001b[39m\u001b[38;5;241m.\u001b[39moptions\u001b[38;5;241m.\u001b[39mget(\u001b[38;5;124m\"\u001b[39m\u001b[38;5;124mmemory_map\u001b[39m\u001b[38;5;124m\"\u001b[39m, \u001b[38;5;28;01mFalse\u001b[39;00m),\n\u001b[0;32m   1886\u001b[0m     is_text\u001b[38;5;241m=\u001b[39mis_text,\n\u001b[0;32m   1887\u001b[0m     errors\u001b[38;5;241m=\u001b[39m\u001b[38;5;28mself\u001b[39m\u001b[38;5;241m.\u001b[39moptions\u001b[38;5;241m.\u001b[39mget(\u001b[38;5;124m\"\u001b[39m\u001b[38;5;124mencoding_errors\u001b[39m\u001b[38;5;124m\"\u001b[39m, \u001b[38;5;124m\"\u001b[39m\u001b[38;5;124mstrict\u001b[39m\u001b[38;5;124m\"\u001b[39m),\n\u001b[0;32m   1888\u001b[0m     storage_options\u001b[38;5;241m=\u001b[39m\u001b[38;5;28mself\u001b[39m\u001b[38;5;241m.\u001b[39moptions\u001b[38;5;241m.\u001b[39mget(\u001b[38;5;124m\"\u001b[39m\u001b[38;5;124mstorage_options\u001b[39m\u001b[38;5;124m\"\u001b[39m, \u001b[38;5;28;01mNone\u001b[39;00m),\n\u001b[0;32m   1889\u001b[0m )\n\u001b[0;32m   1890\u001b[0m \u001b[38;5;28;01massert\u001b[39;00m \u001b[38;5;28mself\u001b[39m\u001b[38;5;241m.\u001b[39mhandles \u001b[38;5;129;01mis\u001b[39;00m \u001b[38;5;129;01mnot\u001b[39;00m \u001b[38;5;28;01mNone\u001b[39;00m\n\u001b[0;32m   1891\u001b[0m f \u001b[38;5;241m=\u001b[39m \u001b[38;5;28mself\u001b[39m\u001b[38;5;241m.\u001b[39mhandles\u001b[38;5;241m.\u001b[39mhandle\n",
      "File \u001b[1;32m~\\anaconda3\\Lib\\site-packages\\pandas\\io\\common.py:873\u001b[0m, in \u001b[0;36mget_handle\u001b[1;34m(path_or_buf, mode, encoding, compression, memory_map, is_text, errors, storage_options)\u001b[0m\n\u001b[0;32m    868\u001b[0m \u001b[38;5;28;01melif\u001b[39;00m \u001b[38;5;28misinstance\u001b[39m(handle, \u001b[38;5;28mstr\u001b[39m):\n\u001b[0;32m    869\u001b[0m     \u001b[38;5;66;03m# Check whether the filename is to be opened in binary mode.\u001b[39;00m\n\u001b[0;32m    870\u001b[0m     \u001b[38;5;66;03m# Binary mode does not support 'encoding' and 'newline'.\u001b[39;00m\n\u001b[0;32m    871\u001b[0m     \u001b[38;5;28;01mif\u001b[39;00m ioargs\u001b[38;5;241m.\u001b[39mencoding \u001b[38;5;129;01mand\u001b[39;00m \u001b[38;5;124m\"\u001b[39m\u001b[38;5;124mb\u001b[39m\u001b[38;5;124m\"\u001b[39m \u001b[38;5;129;01mnot\u001b[39;00m \u001b[38;5;129;01min\u001b[39;00m ioargs\u001b[38;5;241m.\u001b[39mmode:\n\u001b[0;32m    872\u001b[0m         \u001b[38;5;66;03m# Encoding\u001b[39;00m\n\u001b[1;32m--> 873\u001b[0m         handle \u001b[38;5;241m=\u001b[39m \u001b[38;5;28mopen\u001b[39m(\n\u001b[0;32m    874\u001b[0m             handle,\n\u001b[0;32m    875\u001b[0m             ioargs\u001b[38;5;241m.\u001b[39mmode,\n\u001b[0;32m    876\u001b[0m             encoding\u001b[38;5;241m=\u001b[39mioargs\u001b[38;5;241m.\u001b[39mencoding,\n\u001b[0;32m    877\u001b[0m             errors\u001b[38;5;241m=\u001b[39merrors,\n\u001b[0;32m    878\u001b[0m             newline\u001b[38;5;241m=\u001b[39m\u001b[38;5;124m\"\u001b[39m\u001b[38;5;124m\"\u001b[39m,\n\u001b[0;32m    879\u001b[0m         )\n\u001b[0;32m    880\u001b[0m     \u001b[38;5;28;01melse\u001b[39;00m:\n\u001b[0;32m    881\u001b[0m         \u001b[38;5;66;03m# Binary mode\u001b[39;00m\n\u001b[0;32m    882\u001b[0m         handle \u001b[38;5;241m=\u001b[39m \u001b[38;5;28mopen\u001b[39m(handle, ioargs\u001b[38;5;241m.\u001b[39mmode)\n",
      "\u001b[1;31mFileNotFoundError\u001b[0m: [Errno 2] No such file or directory: '../Data/INE_Encuesta_de_ocupación_hotelera_2074.csv'"
     ]
    }
   ],
   "source": [
    "import pandas as pd\n",
    "import numpy as np\n",
    "import matplotlib.pyplot as plt\n",
    "import seaborn as sns\n",
    "\n",
    "# Ruta del archivo\n",
    "file_path = r\"../Data/INE_Encuesta_de_ocupación_hotelera_2074.csv\"\n",
    "\n",
    "# Leer el archivo CSV correctamente\n",
    "df = pd.read_csv(file_path, sep=\";\", encoding=\"utf-8-sig\")\n",
    "\n",
    "# Mostrar las primeras filas para verificar\n",
    "print(df.head())"
   ]
  },
  {
   "cell_type": "code",
   "execution_count": null,
   "id": "9f4f4eff-6422-4e1d-8c0b-41ae438ec157",
   "metadata": {},
   "outputs": [],
   "source": [
    "df.info()"
   ]
  },
  {
   "cell_type": "code",
   "execution_count": null,
   "id": "1268d520-11bf-474d-ba4f-5e835508aa25",
   "metadata": {},
   "outputs": [],
   "source": [
    "df"
   ]
  },
  {
   "cell_type": "code",
   "execution_count": null,
   "id": "cf37e62a-80c7-4b6b-8ccc-03c82a6ef577",
   "metadata": {},
   "outputs": [],
   "source": [
    "# Get distinct values and their counts for each column (from 2022 onwards)\n",
    "print(\"Distinct value counts for each column (from 2022):\\n\")\n",
    "for col in df.columns:\n",
    "    print(f\"Column: {col}\")\n",
    "    print(df[col].value_counts(dropna=False), \"\\n\")"
   ]
  },
  {
   "cell_type": "code",
   "execution_count": null,
   "id": "ab5fad29-3273-49c1-baaf-3d859f8e0661",
   "metadata": {},
   "outputs": [],
   "source": [
    "# Group by CCAA and Provincias, count occurrences\n",
    "group_ccaa_prov = df.groupby(['Comunidades y Ciudades Autónomas', 'Provincias']).size().reset_index(name='Count')\n",
    "\n",
    "# Show first few rows\n",
    "print(group_ccaa_prov.head())\n",
    "\n",
    "# Save to CSV\n",
    "group_ccaa_prov.to_csv('group_ccaa_prov.csv', index=False, encoding='utf-8-sig')"
   ]
  },
  {
   "cell_type": "code",
   "execution_count": null,
   "id": "8fb64333-f3ec-4ffd-92dc-e6b5b696c285",
   "metadata": {},
   "outputs": [],
   "source": [
    "# Clean and convert 'Total' column to float\n",
    "df['Total'] = (\n",
    "    df['Total']\n",
    "    .astype(str)\n",
    "    .str.replace('.', '', regex=False)\n",
    "    .replace('', np.nan)\n",
    "    .astype(float)\n",
    ")\n",
    "\n",
    "# Drop rows with Totals for both travellers origen and rename\n",
    "df = df.dropna(subset=['Residencia: Nivel 2'])\n",
    "df = df.rename(columns={'Residencia: Nivel 2': 'Traveler Origin'})\n",
    "\n",
    "# Drop column same value for all rows\n",
    "df = df.drop(columns=['Residencia: Nivel 1'])\n",
    "\n"
   ]
  },
  {
   "cell_type": "code",
   "execution_count": null,
   "id": "6fe015e8-0266-4e07-9892-08886f98ec58",
   "metadata": {},
   "outputs": [],
   "source": [
    "# Define full province names\n",
    "target_provinces = [\n",
    "    \"29 Málaga\",\n",
    "    \"41 Sevilla\",\n",
    "    \"07 Balears, Illes\",\n",
    "    \"08 Barcelona\",\n",
    "    \"17 Girona\",\n",
    "    \"46 Valencia/València\",\n",
    "    \"28 Madrid\"\n",
    "]\n",
    "\n",
    "# Clean 'Provincias' column\n",
    "df['Provincias'] = df['Provincias'].astype(str).str.strip()\n",
    "\n",
    "# Apply both filters sequentially on df\n",
    "df_filtered = df[\n",
    "    df['Provincias'].isin(target_provinces) &\n",
    "    (df['Periodo'].str[:4].astype(int) >= 2022)\n",
    "].copy()\n"
   ]
  },
  {
   "cell_type": "code",
   "execution_count": null,
   "id": "7fb11a83-9cc8-4e49-beb9-8aa4cc5211c4",
   "metadata": {},
   "outputs": [],
   "source": [
    "df_filtered"
   ]
  },
  {
   "cell_type": "code",
   "execution_count": null,
   "id": "90d7aa51-8c3f-470b-ac65-8a85472021b9",
   "metadata": {},
   "outputs": [],
   "source": [
    "# Separate into travelers and overnight stays\n",
    "df_travelers = df_filtered[df_filtered['Viajeros y pernoctaciones'] == 'Viajero'].copy()\n",
    "df_stays = df_filtered[df_filtered['Viajeros y pernoctaciones'] == 'Pernoctaciones'].copy()\n",
    "\n",
    "# Rename 'Total' to reflect its meaning in each DataFrame\n",
    "df_travelers.rename(columns={'Total': 'Total Travelers'}, inplace=True)\n",
    "df_stays.rename(columns={'Total': 'Total Overnight Stays'}, inplace=True)\n",
    "\n",
    "for d in [df_travelers, df_stays]:\n",
    "    d['Year'] = d['Periodo'].str[:4].astype(int)\n",
    "    d['Month'] = d['Periodo'].str[5:].astype(int)\n"
   ]
  },
  {
   "cell_type": "code",
   "execution_count": null,
   "id": "cfe7e4f4-2963-426a-8685-e0e69dd84e2a",
   "metadata": {},
   "outputs": [],
   "source": [
    "df_travelers.info()"
   ]
  },
  {
   "cell_type": "code",
   "execution_count": null,
   "id": "9771d14b-3790-4a7a-aa94-2ece5cd46cbb",
   "metadata": {},
   "outputs": [],
   "source": [
    "df_stays.info()"
   ]
  },
  {
   "cell_type": "code",
   "execution_count": null,
   "id": "d370c587-bc52-427f-bb30-8b1e7e73cdd5",
   "metadata": {},
   "outputs": [],
   "source": [
    "\n",
    "monthly_trend = df_travelers.groupby(['Provincias', 'Year', 'Month'])['Total Travelers'].sum().reset_index()\n",
    "print(monthly_trend.head())\n"
   ]
  },
  {
   "cell_type": "code",
   "execution_count": null,
   "id": "54e93489-e83d-425e-b9f0-60ff6b2a095b",
   "metadata": {},
   "outputs": [],
   "source": [
    "# Merge datasets on common keys (Region, Year, Month, Traveler Origin)\n",
    "df_merged = pd.merge(\n",
    "    df_travelers, \n",
    "    df_stays, \n",
    "    on=['Comunidades y Ciudades Autónomas', 'Provincias', 'Traveler Origin', 'Year', 'Month']\n",
    ")\n",
    "\n",
    "# Calculate average stay duration\n",
    "df_merged['Avg Stay Duration'] = df_merged['Total Overnight Stays'] / df_merged['Total Travelers']\n",
    "\n",
    "# Create final DataFrame by copying the selected columns\n",
    "df_final = df_merged.loc[:, [\n",
    "    'Comunidades y Ciudades Autónomas', \n",
    "    'Provincias', \n",
    "    'Traveler Origin', \n",
    "    'Year', \n",
    "    'Month', \n",
    "    'Total Travelers', \n",
    "    'Total Overnight Stays', \n",
    "    'Avg Stay Duration'\n",
    "]].copy()  # Using .copy() ensures we're working with a new DataFrame\n",
    "\n",
    "# Convert Month to categorical for better visualization\n",
    "month_map = {\n",
    "    1: 'Jan', 2: 'Feb', 3: 'Mar', 4: 'Apr', 5: 'May', 6: 'Jun',\n",
    "    7: 'Jul', 8: 'Aug', 9: 'Sep', 10: 'Oct', 11: 'Nov', 12: 'Dec'\n",
    "}\n",
    "df_final['Month'] = df_final['Month'].map(month_map)"
   ]
  },
  {
   "cell_type": "code",
   "execution_count": null,
   "id": "423c2d31-3dce-468a-9c41-4e5d8fe1695c",
   "metadata": {},
   "outputs": [],
   "source": [
    "origin_dist = df_final.groupby('Traveler Origin')['Total Travelers'].sum().reset_index()\n",
    "\n",
    "plt.figure(figsize=(8, 5))\n",
    "sns.barplot(data=origin_dist, x='Traveler Origin', y='Total Travelers', palette='viridis')\n",
    "plt.title(\"Traveler Distribution by Origin (Domestic vs. International)\")\n",
    "plt.ylabel(\"Total Travelers (Millions)\")\n",
    "plt.xlabel(\"Origin\")\n",
    "plt.show()"
   ]
  },
  {
   "cell_type": "code",
   "execution_count": null,
   "id": "23f68f39-9372-4a50-b9a8-4fa2aed4997b",
   "metadata": {},
   "outputs": [],
   "source": [
    "regional_stays = df_final.groupby('Comunidades y Ciudades Autónomas')['Total Overnight Stays'].sum()\n",
    "regional_avg_stay = df_final.groupby('Comunidades y Ciudades Autónomas')['Avg Stay Duration'].mean()\n",
    "\n",
    "fig, (ax1, ax2) = plt.subplots(1, 2, figsize=(15, 6))\n",
    "sns.barplot(y=regional_stays.index, x=regional_stays.values, ax=ax1, palette='mako')\n",
    "ax1.set_title(\"Regions by Total Overnight Stays\")\n",
    "ax1.set_xlabel(\"Total Overnight Stays (Millions)\")\n",
    "\n",
    "sns.barplot(y=regional_avg_stay.index, x=regional_avg_stay.values, ax=ax2, palette='rocket')\n",
    "ax2.set_title(\"Regions by Average Stay Duration (Nights)\")\n",
    "ax2.set_xlabel(\"Avg Stay Duration (Nights)\")\n",
    "plt.tight_layout()\n",
    "plt.show()"
   ]
  },
  {
   "cell_type": "code",
   "execution_count": null,
   "id": "70843a68-eb48-4c4b-b2f9-9758d5d60af8",
   "metadata": {},
   "outputs": [],
   "source": [
    "cross_analysis = df_final.pivot_table(\n",
    "    index='Comunidades y Ciudades Autónomas',\n",
    "    columns='Traveler Origin',\n",
    "    values='Avg Stay Duration',\n",
    "    aggfunc='mean'\n",
    ")\n",
    "\n",
    "plt.figure(figsize=(12, 6))\n",
    "sns.heatmap(cross_analysis, cmap='YlOrRd', annot=True, fmt=\".1f\")\n",
    "plt.title(\"Average Stay Duration (Nights) by Region & Traveler Origin\")\n",
    "plt.show()"
   ]
  },
  {
   "cell_type": "code",
   "execution_count": null,
   "id": "ee433879-8d6b-4d4c-afa6-7a5202e49976",
   "metadata": {},
   "outputs": [],
   "source": []
  }
 ],
 "metadata": {
  "kernelspec": {
   "display_name": "Python 3 (ipykernel)",
   "language": "python",
   "name": "python3"
  },
  "language_info": {
   "codemirror_mode": {
    "name": "ipython",
    "version": 3
   },
   "file_extension": ".py",
   "mimetype": "text/x-python",
   "name": "python",
   "nbconvert_exporter": "python",
   "pygments_lexer": "ipython3",
   "version": "3.12.3"
  }
 },
 "nbformat": 4,
 "nbformat_minor": 5
}
